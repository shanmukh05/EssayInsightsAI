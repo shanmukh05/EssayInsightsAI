{
 "cells": [
  {
   "cell_type": "markdown",
   "metadata": {},
   "source": [
    "### Convert txt files to csv"
   ]
  },
  {
   "cell_type": "code",
   "execution_count": 2,
   "metadata": {},
   "outputs": [
    {
     "name": "stderr",
     "output_type": "stream",
     "text": [
      "  0%|          | 0/15594 [00:00<?, ?it/s]"
     ]
    },
    {
     "name": "stderr",
     "output_type": "stream",
     "text": [
      "100%|██████████| 15594/15594 [00:44<00:00, 354.01it/s]\n"
     ]
    },
    {
     "data": {
      "text/html": [
       "<div>\n",
       "<style scoped>\n",
       "    .dataframe tbody tr th:only-of-type {\n",
       "        vertical-align: middle;\n",
       "    }\n",
       "\n",
       "    .dataframe tbody tr th {\n",
       "        vertical-align: top;\n",
       "    }\n",
       "\n",
       "    .dataframe thead th {\n",
       "        text-align: right;\n",
       "    }\n",
       "</style>\n",
       "<table border=\"1\" class=\"dataframe\">\n",
       "  <thead>\n",
       "    <tr style=\"text-align: right;\">\n",
       "      <th></th>\n",
       "      <th>id</th>\n",
       "      <th>text</th>\n",
       "    </tr>\n",
       "  </thead>\n",
       "  <tbody>\n",
       "    <tr>\n",
       "      <th>0</th>\n",
       "      <td>0000D23A521A.txt</td>\n",
       "      <td>Some people belive that the so called \"face\" o...</td>\n",
       "    </tr>\n",
       "    <tr>\n",
       "      <th>1</th>\n",
       "      <td>00066EA9880D.txt</td>\n",
       "      <td>Driverless cars are exaclty what you would exp...</td>\n",
       "    </tr>\n",
       "    <tr>\n",
       "      <th>2</th>\n",
       "      <td>000E6DE9E817.txt</td>\n",
       "      <td>Dear: Principal\\n\\nI am arguing against the po...</td>\n",
       "    </tr>\n",
       "    <tr>\n",
       "      <th>3</th>\n",
       "      <td>001552828BD0.txt</td>\n",
       "      <td>Would you be able to give your car up? Having ...</td>\n",
       "    </tr>\n",
       "    <tr>\n",
       "      <th>4</th>\n",
       "      <td>0016926B079C.txt</td>\n",
       "      <td>I think that students would benefit from learn...</td>\n",
       "    </tr>\n",
       "  </tbody>\n",
       "</table>\n",
       "</div>"
      ],
      "text/plain": [
       "                 id                                               text\n",
       "0  0000D23A521A.txt  Some people belive that the so called \"face\" o...\n",
       "1  00066EA9880D.txt  Driverless cars are exaclty what you would exp...\n",
       "2  000E6DE9E817.txt  Dear: Principal\\n\\nI am arguing against the po...\n",
       "3  001552828BD0.txt  Would you be able to give your car up? Having ...\n",
       "4  0016926B079C.txt  I think that students would benefit from learn..."
      ]
     },
     "execution_count": 2,
     "metadata": {},
     "output_type": "execute_result"
    }
   ],
   "source": [
    "import os\n",
    "from tqdm import tqdm\n",
    "import pandas as pd\n",
    "\n",
    "mainpath = \"./analyzer/data/train\"\n",
    "file_ls = os.listdir(mainpath)\n",
    "txt_ls = [open(os.path.join(mainpath, fp), \"r\").read() for fp in tqdm(file_ls)]\n",
    "\n",
    "df = pd.DataFrame.from_dict({\n",
    "    \"id\": file_ls,\n",
    "    \"text\": txt_ls\n",
    "})\n",
    "df.head()"
   ]
  },
  {
   "cell_type": "code",
   "execution_count": 4,
   "metadata": {},
   "outputs": [],
   "source": [
    "df.to_csv(\"./analyzer/data/train.csv\", index=False)"
   ]
  },
  {
   "cell_type": "code",
   "execution_count": 7,
   "metadata": {},
   "outputs": [
    {
     "data": {
      "text/html": [
       "<div>\n",
       "<style scoped>\n",
       "    .dataframe tbody tr th:only-of-type {\n",
       "        vertical-align: middle;\n",
       "    }\n",
       "\n",
       "    .dataframe tbody tr th {\n",
       "        vertical-align: top;\n",
       "    }\n",
       "\n",
       "    .dataframe thead th {\n",
       "        text-align: right;\n",
       "    }\n",
       "</style>\n",
       "<table border=\"1\" class=\"dataframe\">\n",
       "  <thead>\n",
       "    <tr style=\"text-align: right;\">\n",
       "      <th></th>\n",
       "      <th>id</th>\n",
       "      <th>text</th>\n",
       "    </tr>\n",
       "  </thead>\n",
       "  <tbody>\n",
       "    <tr>\n",
       "      <th>0</th>\n",
       "      <td>0000D23A521A</td>\n",
       "      <td>Some people belive that the so called \"face\" o...</td>\n",
       "    </tr>\n",
       "    <tr>\n",
       "      <th>1</th>\n",
       "      <td>00066EA9880D</td>\n",
       "      <td>Driverless cars are exaclty what you would exp...</td>\n",
       "    </tr>\n",
       "    <tr>\n",
       "      <th>2</th>\n",
       "      <td>000E6DE9E817</td>\n",
       "      <td>Dear: Principal\\n\\nI am arguing against the po...</td>\n",
       "    </tr>\n",
       "    <tr>\n",
       "      <th>3</th>\n",
       "      <td>001552828BD0</td>\n",
       "      <td>Would you be able to give your car up? Having ...</td>\n",
       "    </tr>\n",
       "    <tr>\n",
       "      <th>4</th>\n",
       "      <td>0016926B079C</td>\n",
       "      <td>I think that students would benefit from learn...</td>\n",
       "    </tr>\n",
       "  </tbody>\n",
       "</table>\n",
       "</div>"
      ],
      "text/plain": [
       "             id                                               text\n",
       "0  0000D23A521A  Some people belive that the so called \"face\" o...\n",
       "1  00066EA9880D  Driverless cars are exaclty what you would exp...\n",
       "2  000E6DE9E817  Dear: Principal\\n\\nI am arguing against the po...\n",
       "3  001552828BD0  Would you be able to give your car up? Having ...\n",
       "4  0016926B079C  I think that students would benefit from learn..."
      ]
     },
     "execution_count": 7,
     "metadata": {},
     "output_type": "execute_result"
    }
   ],
   "source": [
    "import pandas as pd\n",
    "\n",
    "df = pd.read_csv(\"./analyzer/data/train_essay.csv\")\n",
    "df[\"id\"] = df[\"id\"].apply(lambda x: x.replace(\".txt\", \"\"))\n",
    "df.to_csv(\"./analyzer/data/train_essay.csv\", index=False)\n",
    "df.head()"
   ]
  },
  {
   "cell_type": "markdown",
   "metadata": {},
   "source": [
    "### Random"
   ]
  },
  {
   "cell_type": "code",
   "execution_count": null,
   "metadata": {},
   "outputs": [],
   "source": [
    "from transformers import AutoTokenizer, AutoModelForTokenClassification, AutoConfig\n",
    "# tokenizer = AutoTokenizer.from_pretrained('distilbert-base-uncased', force_download=True)\n",
    "config = AutoConfig.from_pretrained(\"google-bert/bert-base-cased\", force_download=True)\n",
    "model = AutoModelForTokenClassification.from_pretrained(\"google-bert/bert-base-cased\", force_download=True)"
   ]
  },
  {
   "cell_type": "markdown",
   "metadata": {},
   "source": [
    "### Preprocessing"
   ]
  },
  {
   "cell_type": "code",
   "execution_count": 21,
   "metadata": {},
   "outputs": [
    {
     "name": "stderr",
     "output_type": "stream",
     "text": [
      "3468it [00:58, 58.99it/s]\n"
     ]
    }
   ],
   "source": [
    "import pandas as pd \n",
    "from tqdm import tqdm\n",
    "\n",
    "essay_df = pd.read_csv(r\"D:\\Learning\\NLP\\Projects\\EssayInsightAI\\analyzer\\data\\train_essay.csv\").iloc[12126:]\n",
    "label_df = pd.read_csv(r\"D:\\Learning\\NLP\\Projects\\EssayInsightAI\\analyzer\\data\\train_labels.csv\")\n",
    "\n",
    "predictions = []\n",
    "for _, row in tqdm(essay_df.iterrows()):\n",
    "    seq_len = len(row[\"text\"].split())\n",
    "    preds = [\"O\"]*seq_len\n",
    "    for _, det_row in label_df[label_df[\"id\"] == row[\"id\"]].iterrows():\n",
    "        string = [int(k) for k in det_row[\"predictionstring\"].split()]\n",
    "        discourse_type = det_row[\"discourse_type\"]\n",
    "\n",
    "        preds[string[0]] = f\"B-{discourse_type}\"\n",
    "        for id_ in string[1:]: preds[id_] = f\"I-{discourse_type}\"\n",
    "    predictions.append(preds)\n",
    "\n",
    "essay_df[\"prediction\"] = predictions"
   ]
  },
  {
   "cell_type": "code",
   "execution_count": 19,
   "metadata": {},
   "outputs": [
    {
     "data": {
      "text/plain": [
       "'C647D6659C92'"
      ]
     },
     "execution_count": 19,
     "metadata": {},
     "output_type": "execute_result"
    }
   ],
   "source": [
    "row[\"id\"]"
   ]
  },
  {
   "cell_type": "code",
   "execution_count": 12,
   "metadata": {},
   "outputs": [
    {
     "data": {
      "text/plain": [
       "'I disagree with the principal because some kids may like to go home ,or do not want to do anything after school, they could be busy ,or do not have the right actions or just are not as good at any of the sports. Some kids at the school may not think of the sports as something to do or dont like there school team and could think its not for them to play on a school team or they just cant do it at all . Although,\\n\\nkids might not wanna do sports at all and think itÃƒÂ…Ã¢Â€Âº a bad team or it just not the type of things they prefer to do . Most children like staying home and playing games or doing other fun things or just eat a lot of food and be lazy but possibly , kids are having a busy life and have to do things and do not have time for the sports like help grandparents or siblings or just watch over the house while no ones there. It may be a bit hard for them to get into any sports if students cant control their actions as in helping or showing there doing something or communication or even able to focus and do what there supposed to do in the sports rules . Also, some students might not like sports at all they might disagree with what things the players do like the body movements or the way their stretching or they just dont like the feeling in sports or activities as in some may not like moving around a lot or they may be out of shape or just have bad health so they think their not going to get anything done or think their not fit for sports .Mean while, some kids may think their not good enough as other students or cant move like them or be as focus when their doing things.'"
      ]
     },
     "execution_count": 12,
     "metadata": {},
     "output_type": "execute_result"
    }
   ],
   "source": [
    "\"A34FF5F00E3A\", \"C647D6659C92\""
   ]
  },
  {
   "cell_type": "code",
   "execution_count": 27,
   "metadata": {},
   "outputs": [],
   "source": [
    "import os\n",
    "import glob\n",
    "\n",
    "datapath = r\"D:\\Learning\\NLP\\Projects\\EssayInsightAI\\analyzer\\data\"\n",
    "\n",
    "test_paths = os.listdir(os.path.join(datapath, \"test\"))\n",
    "test_texts = [open(os.path.join(datapath, \"test\", f), \"r\").read() for f in test_paths]"
   ]
  },
  {
   "cell_type": "markdown",
   "metadata": {},
   "source": [
    "### Inference"
   ]
  },
  {
   "cell_type": "code",
   "execution_count": 10,
   "metadata": {},
   "outputs": [
    {
     "name": "stderr",
     "output_type": "stream",
     "text": [
      "d:\\Learning\\NLP\\envs\\essay_ai\\Lib\\site-packages\\tqdm\\auto.py:21: TqdmWarning: IProgress not found. Please update jupyter and ipywidgets. See https://ipywidgets.readthedocs.io/en/stable/user_install.html\n",
      "  from .autonotebook import tqdm as notebook_tqdm\n"
     ]
    }
   ],
   "source": [
    "import os\n",
    "import sys\n",
    "import json \n",
    "import torch\n",
    "\n",
    "sys.path.append(\"./\")\n",
    "sys.path.append(\"./analyzer\")\n",
    "# from analyzer.train import load_saved_model\n",
    "# from analyzer.utils import load_config, prepare_test_data\n",
    "from analyzer.metrics import competition_metric"
   ]
  },
  {
   "cell_type": "code",
   "execution_count": 12,
   "metadata": {},
   "outputs": [
    {
     "data": {
      "text/plain": [
       "1.0"
      ]
     },
     "execution_count": 12,
     "metadata": {},
     "output_type": "execute_result"
    }
   ],
   "source": [
    "pred_df = pd.read_csv(r\"D:\\Learning\\NLP\\Projects\\EssayInsightAI\\analyzer\\output\\distilbert\\submission.csv\")\n",
    "true_df = pd.read_csv(r\"D:\\Learning\\NLP\\Projects\\EssayInsightAI\\analyzer\\output\\distilbert\\submission.csv\")\n",
    "true_df[\"discourse_type\"] = true_df[\"class\"]\n",
    "\n",
    "true_df.drop('class', axis=1, inplace=True)\n",
    "\n",
    "competition_metric(pred_df, true_df)"
   ]
  },
  {
   "cell_type": "code",
   "execution_count": 2,
   "metadata": {},
   "outputs": [
    {
     "name": "stderr",
     "output_type": "stream",
     "text": [
      "Some weights of DistilBertForTokenClassification were not initialized from the model checkpoint at D:\\Learning\\NLP\\Projects\\EssayInsightAI\\analyzer\\models\\distilbert-base-uncased and are newly initialized: ['classifier.bias', 'classifier.weight']\n",
      "You should probably TRAIN this model on a down-stream task to be able to use it for predictions and inference.\n",
      "GPU available: False, used: False\n",
      "TPU available: False, using: 0 TPU cores\n",
      "HPU available: False, using: 0 HPUs\n"
     ]
    }
   ],
   "source": [
    "datapath = r\"D:\\Learning\\NLP\\Projects\\EssayInsightAI\\analyzer\\data\"\n",
    "ckpt_path = r\"D:\\Learning\\NLP\\Projects\\EssayInsightAI\\analyzer\\output\\distilbert\\lightning_logs\\version_0\\checkpoints\\epoch=0-step=5.ckpt\"\n",
    "config_path = r\"D:\\Learning\\NLP\\Projects\\EssayInsightAI\\analyzer\\configs\\config.yaml\"\n",
    "\n",
    "config = load_config(config_path)\n",
    "with open(os.path.join(datapath, \"label2id.json\"), \"r\") as f:\n",
    "    label2id = json.load(f)\n",
    "num_classes = len(label2id)\n",
    "id2label = {v:k for k, v in label2id.items()}\n",
    "data, network, trainer = load_saved_model(\n",
    "    config, \n",
    "    ckpt_path, \n",
    "    [label2id, id2label, num_classes]\n",
    "    )"
   ]
  },
  {
   "cell_type": "code",
   "execution_count": 3,
   "metadata": {},
   "outputs": [
    {
     "name": "stderr",
     "output_type": "stream",
     "text": [
      "d:\\Learning\\NLP\\envs\\essay_ai\\Lib\\site-packages\\pytorch_lightning\\trainer\\connectors\\data_connector.py:420: Consider setting `persistent_workers=True` in 'predict_dataloader' to speed up the dataloader worker initialization.\n"
     ]
    },
    {
     "name": "stdout",
     "output_type": "stream",
     "text": [
      "Predicting DataLoader 0: 100%|██████████| 3/3 [00:03<00:00,  0.95it/s]\n"
     ]
    }
   ],
   "source": [
    "test_df = prepare_test_data(datapath)\n",
    "test_loader = data.test_dataloader(test_df)\n",
    "\n",
    "logits = trainer.predict(network, dataloaders=test_loader)"
   ]
  },
  {
   "cell_type": "code",
   "execution_count": null,
   "metadata": {},
   "outputs": [],
   "source": [
    "word_ids = []\n",
    "for batch in test_loader:\n",
    "    word_ids.extend(batch[\"word_ids\"].numpy())\n",
    "len(word_ids)"
   ]
  },
  {
   "cell_type": "code",
   "execution_count": 9,
   "metadata": {},
   "outputs": [
    {
     "data": {
      "text/html": [
       "<div>\n",
       "<style scoped>\n",
       "    .dataframe tbody tr th:only-of-type {\n",
       "        vertical-align: middle;\n",
       "    }\n",
       "\n",
       "    .dataframe tbody tr th {\n",
       "        vertical-align: top;\n",
       "    }\n",
       "\n",
       "    .dataframe thead th {\n",
       "        text-align: right;\n",
       "    }\n",
       "</style>\n",
       "<table border=\"1\" class=\"dataframe\">\n",
       "  <thead>\n",
       "    <tr style=\"text-align: right;\">\n",
       "      <th></th>\n",
       "      <th>X</th>\n",
       "      <th>Y</th>\n",
       "      <th>Z</th>\n",
       "      <th>A</th>\n",
       "      <th>B</th>\n",
       "    </tr>\n",
       "  </thead>\n",
       "  <tbody>\n",
       "    <tr>\n",
       "      <th>0</th>\n",
       "      <td>1</td>\n",
       "      <td>7</td>\n",
       "      <td>-3</td>\n",
       "      <td>2</td>\n",
       "      <td>9</td>\n",
       "    </tr>\n",
       "    <tr>\n",
       "      <th>1</th>\n",
       "      <td>2</td>\n",
       "      <td>8</td>\n",
       "      <td>-6</td>\n",
       "      <td>3</td>\n",
       "      <td>10</td>\n",
       "    </tr>\n",
       "    <tr>\n",
       "      <th>2</th>\n",
       "      <td>3</td>\n",
       "      <td>9</td>\n",
       "      <td>-9</td>\n",
       "      <td>4</td>\n",
       "      <td>11</td>\n",
       "    </tr>\n",
       "  </tbody>\n",
       "</table>\n",
       "</div>"
      ],
      "text/plain": [
       "   X  Y  Z  A   B\n",
       "0  1  7 -3  2   9\n",
       "1  2  8 -6  3  10\n",
       "2  3  9 -9  4  11"
      ]
     },
     "execution_count": 9,
     "metadata": {},
     "output_type": "execute_result"
    }
   ],
   "source": [
    "import pandas as pd\n",
    "\n",
    "\n",
    "def get_out(x, y):\n",
    "    return x+1, y+2\n",
    "\n",
    "df = pd.DataFrame.from_dict({\n",
    "    \"X\": [1, 2, 3],\n",
    "    \"Y\": [7, 8, 9],\n",
    "    \"Z\": [-3, -6, -9]\n",
    "})\n",
    "\n",
    "df[[\"A\", \"B\"]] = df.apply(lambda row : get_out(row.X, row.Y), axis=1, result_type='expand')\n",
    "df.head()"
   ]
  }
 ],
 "metadata": {
  "kernelspec": {
   "display_name": "essay_ai",
   "language": "python",
   "name": "python3"
  },
  "language_info": {
   "codemirror_mode": {
    "name": "ipython",
    "version": 3
   },
   "file_extension": ".py",
   "mimetype": "text/x-python",
   "name": "python",
   "nbconvert_exporter": "python",
   "pygments_lexer": "ipython3",
   "version": "3.12.0"
  }
 },
 "nbformat": 4,
 "nbformat_minor": 2
}
